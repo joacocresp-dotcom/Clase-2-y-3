{
  "nbformat": 4,
  "nbformat_minor": 0,
  "metadata": {
    "colab": {
      "provenance": [],
      "authorship_tag": "ABX9TyN0mouSQWfRtiwrzFtLVQB3",
      "include_colab_link": true
    },
    "kernelspec": {
      "name": "python3",
      "display_name": "Python 3"
    },
    "language_info": {
      "name": "python"
    }
  },
  "cells": [
    {
      "cell_type": "markdown",
      "metadata": {
        "id": "view-in-github",
        "colab_type": "text"
      },
      "source": [
        "<a href=\"https://colab.research.google.com/github/joacocresp-dotcom/Clase-2-y-3/blob/main/Untitled2.ipynb\" target=\"_parent\"><img src=\"https://colab.research.google.com/assets/colab-badge.svg\" alt=\"Open In Colab\"/></a>"
      ]
    },
    {
      "cell_type": "code",
      "execution_count": null,
      "metadata": {
        "id": "YXilxJ6oxNpn"
      },
      "outputs": [],
      "source": [
        "import pandas as pd\n"
      ]
    },
    {
      "cell_type": "code",
      "source": [
        "# ISO 86001\n",
        "fechas = pd.date_range(start=\"2024.10.01\", end=\"2025,10,10\", freq=\"me\")\n",
        "fechas"
      ],
      "metadata": {
        "colab": {
          "base_uri": "https://localhost:8080/"
        },
        "id": "f9CtcmrkxUgX",
        "outputId": "256d2cea-4441-438d-cbf6-31f5055aabf5"
      },
      "execution_count": null,
      "outputs": [
        {
          "output_type": "stream",
          "name": "stderr",
          "text": [
            "/tmp/ipython-input-3042445392.py:2: FutureWarning: 'me' is deprecated and will be removed in a future version, please use 'ME' instead.\n",
            "  fechas = pd.date_range(start=\"2024.10.01\", end=\"2025,10,10\", freq=\"me\")\n"
          ]
        },
        {
          "output_type": "execute_result",
          "data": {
            "text/plain": [
              "DatetimeIndex(['2024-10-31', '2024-11-30', '2024-12-31', '2025-01-31',\n",
              "               '2025-02-28', '2025-03-31', '2025-04-30', '2025-05-31',\n",
              "               '2025-06-30', '2025-07-31', '2025-08-31', '2025-09-30'],\n",
              "              dtype='datetime64[ns]', freq='ME')"
            ]
          },
          "metadata": {},
          "execution_count": 6
        }
      ]
    },
    {
      "cell_type": "code",
      "source": [
        "import numpy as np\n",
        "\n",
        "np.random.seed(42)"
      ],
      "metadata": {
        "id": "wqHDghb8yD71"
      },
      "execution_count": null,
      "outputs": []
    },
    {
      "cell_type": "code",
      "source": [
        "datos = (\n",
        "      \"temperatura\"\n",
        "      \"humedad\"\n",
        "      \"ventas\"\n",
        ")"
      ],
      "metadata": {
        "id": "b4oTK1LcyN_K"
      },
      "execution_count": null,
      "outputs": []
    },
    {
      "cell_type": "code",
      "source": [],
      "metadata": {
        "id": "8Hu52R89IQL4"
      },
      "execution_count": null,
      "outputs": []
    },
    {
      "cell_type": "markdown",
      "metadata": {
        "id": "3ec3ee79"
      },
      "source": [
        "Aquí tienes algunos ejemplos de código que ilustran la indexación, el rebanado y la comprensión de listas."
      ]
    },
    {
      "cell_type": "code",
      "metadata": {
        "colab": {
          "base_uri": "https://localhost:8080/"
        },
        "id": "dc24671c",
        "outputId": "4c00a39c-16d4-48f2-fdea-2dcbc0f40fd1"
      },
      "source": [
        "# Ejemplo de Indexación\n",
        "mi_lista = [10, 20, 30, 40, 50]\n",
        "print(f\"Lista original: {mi_lista}\")\n",
        "print(f\"Primer elemento: {mi_lista[0]}\")\n",
        "print(f\"Tercer elemento: {mi_lista[2]}\")\n",
        "print(f\"Último elemento: {mi_lista[-1]}\")\n",
        "print(f\"Penúltimo elemento: {mi_lista[-2]}\")"
      ],
      "execution_count": null,
      "outputs": [
        {
          "output_type": "stream",
          "name": "stdout",
          "text": [
            "Lista original: [10, 20, 30, 40, 50]\n",
            "Primer elemento: 10\n",
            "Tercer elemento: 30\n",
            "Último elemento: 50\n",
            "Penúltimo elemento: 40\n"
          ]
        }
      ]
    },
    {
      "cell_type": "code",
      "metadata": {
        "colab": {
          "base_uri": "https://localhost:8080/"
        },
        "id": "9c3911e6",
        "outputId": "cc8436b8-2a19-4510-8032-2c59fddb7120"
      },
      "source": [
        "# Ejemplo de Rebanado\n",
        "mi_lista = [10, 20, 30, 40, 50, 60, 70]\n",
        "print(f\"Lista original: {mi_lista}\")\n",
        "print(f\"Elementos del índice 1 al 4 (sin incluir el 4): {mi_lista[1:4]}\")\n",
        "print(f\"Elementos desde el inicio hasta el índice 3 (sin incluir el 3): {mi_lista[:3]}\")\n",
        "print(f\"Elementos desde el índice 4 hasta el final: {mi_lista[4:]}\")\n",
        "print(f\"Todos los elementos con un paso de 2: {mi_lista[::2]}\")\n",
        "print(f\"Rebanada invertida: {mi_lista[::-1]}\")"
      ],
      "execution_count": null,
      "outputs": [
        {
          "output_type": "stream",
          "name": "stdout",
          "text": [
            "Lista original: [10, 20, 30, 40, 50, 60, 70]\n",
            "Elementos del índice 1 al 4 (sin incluir el 4): [20, 30, 40]\n",
            "Elementos desde el inicio hasta el índice 3 (sin incluir el 3): [10, 20, 30]\n",
            "Elementos desde el índice 4 hasta el final: [50, 60, 70]\n",
            "Todos los elementos con un paso de 2: [10, 30, 50, 70]\n",
            "Rebanada invertida: [70, 60, 50, 40, 30, 20, 10]\n"
          ]
        }
      ]
    },
    {
      "cell_type": "code",
      "metadata": {
        "colab": {
          "base_uri": "https://localhost:8080/"
        },
        "id": "6c5bf667",
        "outputId": "04dc30ae-486f-4456-a11d-5c17e824b266"
      },
      "source": [
        "# Ejemplo de Comprensión de Listas\n",
        "numeros = [1, 2, 3, 4, 5, 6, 7, 8, 9, 10]\n",
        "\n",
        "# Crear una nueva lista con los cuadrados de los números\n",
        "cuadrados = [x**2 for x in numeros]\n",
        "print(f\"Números originales: {numeros}\")\n",
        "print(f\"Cuadrados de los números: {cuadrados}\")\n",
        "\n",
        "# Crear una nueva lista con solo los números pares\n",
        "numeros_pares = [x for x in numeros if x % 2 == 0]\n",
        "print(f\"Números pares: {numeros_pares}\")"
      ],
      "execution_count": null,
      "outputs": [
        {
          "output_type": "stream",
          "name": "stdout",
          "text": [
            "Números originales: [1, 2, 3, 4, 5, 6, 7, 8, 9, 10]\n",
            "Cuadrados de los números: [1, 4, 9, 16, 25, 36, 49, 64, 81, 100]\n",
            "Números pares: [2, 4, 6, 8, 10]\n"
          ]
        }
      ]
    },
    {
      "cell_type": "code",
      "metadata": {
        "colab": {
          "base_uri": "https://localhost:8080/"
        },
        "id": "c994f219",
        "outputId": "b6b31189-b27f-447c-a865-2639635c6f3c"
      },
      "source": [
        "# Ejemplo de tipo de dato str (cadena de texto)\n",
        "\n",
        "# Cadenas con comillas simples, dobles y triples\n",
        "saludo_simple: str = 'Hola' # Anotación de tipo añadida\n",
        "saludo_doble = \"Mundo\"\n",
        "parrafo_largo = \"\"\"Este es un párrafo\n",
        "que abarca varias\n",
        "líneas.\"\"\"\n",
        "una_cadena_simple: str = \"Esto es una cadena simple\" # Otra variable str explícita\n",
        "\n",
        "print(saludo_simple)\n",
        "print(saludo_doble)\n",
        "print(parrafo_largo)\n",
        "print(una_cadena_simple) # Imprimir la nueva variable\n",
        "\n",
        "# Concatenación de cadenas\n",
        "mensaje_completo = saludo_simple + \", \" + saludo_doble + \"!\"\n",
        "print(mensaje_completo)\n",
        "\n",
        "# Repetición de cadenas\n",
        "risa = \"Ja\" * 3\n",
        "print(risa)\n",
        "\n",
        "# Indexación y rebanado en cadenas\n",
        "palabra = \"Python\"\n",
        "print(f\"Primera letra: {palabra[0]}\")\n",
        "print(f\"Última letra: {palabra[-1]}\")\n",
        "print(f\"Rebanada (letras 1 a 3): {palabra[1:4]}\") # \"yth\"\n",
        "\n",
        "# Métodos comunes de cadena\n",
        "cadena_original = \"  Hola, Python!  \"\n",
        "print(f\"Original: '{cadena_original}'\")\n",
        "print(f\"Mayúsculas: '{cadena_original.upper()}'\")\n",
        "print(f\"Minúsculas: '{cadena_original.lower()}'\")\n",
        "print(f\"Sin espacios al inicio/final: '{cadena_original.strip()}'\")\n",
        "print(f\"Reemplazar 'Python' por 'Mundo': '{cadena_original.replace('Python', 'Mundo')}'\")\n",
        "print(f\"Dividir por espacio: {cadena_original.strip().split(' ')}\")\n",
        "\n",
        "# Verificando el tipo de dato\n",
        "print(f\"Tipo de saludo_simple: {type(saludo_simple)}\")\n",
        "print(f\"Tipo de una_cadena_simple: {type(una_cadena_simple)}\") # Verificar el tipo de la nueva variable"
      ],
      "execution_count": null,
      "outputs": [
        {
          "output_type": "stream",
          "name": "stdout",
          "text": [
            "Hola\n",
            "Mundo\n",
            "Este es un párrafo\n",
            "que abarca varias\n",
            "líneas.\n",
            "Esto es una cadena simple\n",
            "Hola, Mundo!\n",
            "JaJaJa\n",
            "Primera letra: P\n",
            "Última letra: n\n",
            "Rebanada (letras 1 a 3): yth\n",
            "Original: '  Hola, Python!  '\n",
            "Mayúsculas: '  HOLA, PYTHON!  '\n",
            "Minúsculas: '  hola, python!  '\n",
            "Sin espacios al inicio/final: 'Hola, Python!'\n",
            "Reemplazar 'Python' por 'Mundo': '  Hola, Mundo!  '\n",
            "Dividir por espacio: ['Hola,', 'Python!']\n",
            "Tipo de saludo_simple: <class 'str'>\n",
            "Tipo de una_cadena_simple: <class 'str'>\n"
          ]
        }
      ]
    },
    {
      "cell_type": "code",
      "metadata": {
        "colab": {
          "base_uri": "https://localhost:8080/"
        },
        "id": "03f0e0ef",
        "outputId": "5e351c09-be22-4b53-8599-56bb3b12ee41"
      },
      "source": [
        " Ejemplo de tipo de dato bool y su uso en condiciones\n",
        "es_mayor_de_edad = True\n",
        "tiene_licencia = False\n",
        "\n",
        "# Usando valores booleanos directamente\n",
        "if es_mayor_de_edad:\n",
        "    print(\"Es mayor de edad.\")\n",
        "else:\n",
        "    print(\"No es mayor de edad.\")\n",
        "\n",
        "# Usando comparación que devuelve un booleano\n",
        "edad = 20\n",
        "if edad >= 18:\n",
        "    print(\"La edad es 18 o mayor.\")\n",
        "else:\n",
        "    print(\"La edad es menor de 18.\")\n",
        "\n",
        "# Usando operadores lógicos\n",
        "if es_mayor_de_edad and tiene_licencia:\n",
        "    print(\"Es mayor de edad y tiene licencia.\")\n",
        "elif es_mayor_de_edad or tiene_licencia:\n",
        "    print(\"Es mayor de edad o tiene licencia (o ambas).\")\n",
        "else:\n",
        "    print(\"No es mayor de edad ni tiene licencia.\")\n",
        "\n",
        "# Usando el operador not\n",
        "if not tiene_licencia:\n",
        "    print(\"No tiene licencia.\")"
      ],
      "execution_count": null,
      "outputs": [
        {
          "output_type": "stream",
          "name": "stdout",
          "text": [
            "Es mayor de edad.\n",
            "La edad es 18 o mayor.\n",
            "Es mayor de edad o tiene licencia (o ambas).\n",
            "No tiene licencia.\n"
          ]
        }
      ]
    },
    {
      "cell_type": "code",
      "metadata": {
        "colab": {
          "base_uri": "https://localhost:8080/"
        },
        "id": "3f129d13",
        "outputId": "50440fb0-4271-4dec-f5f1-3637e96a2369"
      },
      "source": [
        "# Ejemplo de Listas (list)\n",
        "\n",
        "# Crear una lista\n",
        "mi_lista = [1, 2, 3, \"cuatro\", 5.0, True]\n",
        "print(f\"Lista original: {mi_lista}\")\n",
        "print(f\"Tipo de mi_lista: {type(mi_lista)}\")\n",
        "\n",
        "# Acceder a elementos por índice\n",
        "print(f\"Primer elemento: {mi_lista[0]}\")\n",
        "print(f\"Último elemento: {mi_lista[-1]}\")\n",
        "\n",
        "# Rebanado (slicing)\n",
        "print(f\"Elementos del índice 1 al 3: {mi_lista[1:4]}\") # Incluye índice 1, 2, 3\n",
        "\n",
        "# Modificar un elemento\n",
        "mi_lista[0] = 100\n",
        "print(f\"Lista después de modificar el primer elemento: {mi_lista}\")\n",
        "\n",
        "# Añadir un elemento al final\n",
        "mi_lista.append(\"nuevo elemento\")\n",
        "print(f\"Lista después de añadir un elemento: {mi_lista}\")\n",
        "\n",
        "# Insertar un elemento en una posición específica\n",
        "mi_lista.insert(1, \"insertado en pos 1\")\n",
        "print(f\"Lista después de insertar en pos 1: {mi_lista}\")\n",
        "\n",
        "# Eliminar un elemento por valor\n",
        "mi_lista.remove(\"cuatro\")\n",
        "print(f\"Lista después de eliminar 'cuatro': {mi_lista}\")\n",
        "\n",
        "# Eliminar un elemento por índice\n",
        "del mi_lista[0]\n",
        "print(f\"Lista después de eliminar el primer elemento por índice: {mi_lista}\")\n",
        "\n",
        "# Longitud de la lista\n",
        "print(f\"Longitud de la lista: {len(mi_lista)}\")\n",
        "\n",
        "# Iterar sobre una lista (usando el bucle for que acabamos de ver)\n",
        "print(\"Elementos de la lista:\")\n",
        "for elemento in mi_lista:\n",
        "    print(elemento)"
      ],
      "execution_count": null,
      "outputs": [
        {
          "output_type": "stream",
          "name": "stdout",
          "text": [
            "Lista original: [1, 2, 3, 'cuatro', 5.0, True]\n",
            "Tipo de mi_lista: <class 'list'>\n",
            "Primer elemento: 1\n",
            "Último elemento: True\n",
            "Elementos del índice 1 al 3: [2, 3, 'cuatro']\n",
            "Lista después de modificar el primer elemento: [100, 2, 3, 'cuatro', 5.0, True]\n",
            "Lista después de añadir un elemento: [100, 2, 3, 'cuatro', 5.0, True, 'nuevo elemento']\n",
            "Lista después de insertar en pos 1: [100, 'insertado en pos 1', 2, 3, 'cuatro', 5.0, True, 'nuevo elemento']\n",
            "Lista después de eliminar 'cuatro': [100, 'insertado en pos 1', 2, 3, 5.0, True, 'nuevo elemento']\n",
            "Lista después de eliminar el primer elemento por índice: ['insertado en pos 1', 2, 3, 5.0, True, 'nuevo elemento']\n",
            "Longitud de la lista: 6\n",
            "Elementos de la lista:\n",
            "insertado en pos 1\n",
            "2\n",
            "3\n",
            "5.0\n",
            "True\n",
            "nuevo elemento\n"
          ]
        }
      ]
    },
    {
      "cell_type": "markdown",
      "metadata": {
        "id": "c0bd55ad"
      },
      "source": [
        "Ejemplo del tipo de dato contenedor: Tupla (`tuple`)."
      ]
    },
    {
      "cell_type": "code",
      "metadata": {
        "colab": {
          "base_uri": "https://localhost:8080/"
        },
        "id": "1c0a1008",
        "outputId": "38f68ba8-78d9-4cfc-fd10-f46853209dcb"
      },
      "source": [
        "# Ejemplo de Tuplas (tuple)\n",
        "\n",
        "# Crear una tupla\n",
        "mi_tupla = (1, \"dos\", 3.0, False)\n",
        "print(f\"Tupla original: {mi_tupla}\")\n",
        "print(f\"Tipo de mi_tupla: {type(mi_tupla)}\")\n",
        "\n",
        "# Acceder a elementos por índice\n",
        "print(f\"Primer elemento: {mi_tupla[0]}\")\n",
        "print(f\"Último elemento: {mi_tupla[-1]}\")\n",
        "\n",
        "# Rebanado (slicing)\n",
        "print(f\"Elementos del índice 1 al 3: {mi_tupla[1:4]}\")\n",
        "\n",
        "# Intentar modificar un elemento (esto generará un error)\n",
        "# mi_tupla[0] = 100 # Descomenta esta línea para ver el error TypeError\n",
        "\n",
        "# Longitud de la tupla\n",
        "print(f\"Longitud de la tupla: {len(mi_tupla)}\")\n",
        "\n",
        "# Iterar sobre una tupla\n",
        "print(\"Elementos de la tupla:\")\n",
        "for elemento in mi_tupla:\n",
        "    print(elemento)\n",
        "\n",
        "# Una tupla con un solo elemento (necesita la coma al final)\n",
        "tupla_un_elemento = (5,)\n",
        "print(f\"Tupla con un elemento: {tupla_un_elemento}\")\n",
        "print(f\"Tipo de tupla_un_elemento: {type(tupla_un_elemento)}\")\n",
        "\n",
        "# Crear una tupla a partir de una lista\n",
        "lista_ejemplo = [10, 20, 30]\n",
        "tupla_desde_lista = tuple(lista_ejemplo)\n",
        "print(f\"Tupla creada desde una lista: {tupla_desde_lista}\")"
      ],
      "execution_count": null,
      "outputs": [
        {
          "output_type": "stream",
          "name": "stdout",
          "text": [
            "Tupla original: (1, 'dos', 3.0, False)\n",
            "Tipo de mi_tupla: <class 'tuple'>\n",
            "Primer elemento: 1\n",
            "Último elemento: False\n",
            "Elementos del índice 1 al 3: ('dos', 3.0, False)\n",
            "Longitud de la tupla: 4\n",
            "Elementos de la tupla:\n",
            "1\n",
            "dos\n",
            "3.0\n",
            "False\n",
            "Tupla con un elemento: (5,)\n",
            "Tipo de tupla_un_elemento: <class 'tuple'>\n",
            "Tupla creada desde una lista: (10, 20, 30)\n"
          ]
        }
      ]
    },
    {
      "cell_type": "markdown",
      "metadata": {
        "id": "8934a2b2"
      },
      "source": [
        "Ejemplo del tipo de dato contenedor: Set (`set`)."
      ]
    },
    {
      "cell_type": "code",
      "metadata": {
        "colab": {
          "base_uri": "https://localhost:8080/"
        },
        "id": "b1953104",
        "outputId": "8c632de0-7a9e-4ae2-a741-09f1e1645fec"
      },
      "source": [
        "# Ejemplo de Sets (set)\n",
        "\n",
        "# Crear un set usando llaves {}\n",
        "mi_set = {1, 2, 3, \"cuatro\", 1, 2} # Los duplicados 1 y 2 serán eliminados\n",
        "print(f\"Set original: {mi_set}\")\n",
        "print(f\"Tipo de mi_set: {type(mi_set)}\")\n",
        "\n",
        "# Crear un set a partir de una lista (útil para eliminar duplicados)\n",
        "lista_con_duplicados = [1, 2, 2, 3, 4, 4, 5]\n",
        "set_sin_duplicados = set(lista_con_duplicados)\n",
        "print(f\"Lista con duplicados: {lista_con_duplicados}\")\n",
        "print(f\"Set sin duplicados (creado desde lista): {set_sin_duplicados}\")\n",
        "\n",
        "# Añadir un elemento a un set\n",
        "mi_set.add(\"cinco\")\n",
        "print(f\"Set después de añadir 'cinco': {mi_set}\")\n",
        "\n",
        "# Intentar añadir un elemento duplicado (será ignorado)\n",
        "mi_set.add(3)\n",
        "print(f\"Set después de intentar añadir 3 (duplicado): {mi_set}\")\n",
        "\n",
        "# Eliminar un elemento de un set\n",
        "mi_set.remove(\"cuatro\") # Generará un error si el elemento no existe\n",
        "# mi_set.discard(\"elemento_que_no_existe\") # discard no genera error si el elemento no existe\n",
        "print(f\"Set después de eliminar 'cuatro': {mi_set}\")\n",
        "\n",
        "# Intentar acceder a un elemento por índice (generará un error)\n",
        "# print(mi_set[0]) # Descomenta para ver TypeError\n",
        "\n",
        "# Iterar sobre un set (el orden puede ser diferente al de inserción)\n",
        "print(\"Elementos del set:\")\n",
        "for elemento in mi_set:\n",
        "    print(elemento)\n",
        "\n",
        "# Operaciones de conjuntos\n",
        "set1 = {1, 2, 3, 4}\n",
        "set2 = {3, 4, 5, 6}\n",
        "\n",
        "union = set1.union(set2) # o set1 | set2\n",
        "interseccion = set1.intersection(set2) # o set1 & set2\n",
        "diferencia1 = set1.difference(set2) # o set1 - set2 (Elementos en set1 pero no en set2)\n",
        "diferencia2 = set2.difference(set1) # o set2 - set1 (Elementos en set2 pero no en set1)\n",
        "diferencia_simetrica = set1.symmetric_difference(set2) # o set1 ^ set2 (Elementos en set1 o set2 pero no en ambos)\n",
        "\n",
        "print(f\"Set 1: {set1}\")\n",
        "print(f\"Set 2: {set2}\")\n",
        "print(f\"Unión: {union}\")\n",
        "print(f\"Intersección: {interseccion}\")\n",
        "print(f\"Diferencia (set1 - set2): {diferencia1}\")\n",
        "print(f\"Diferencia (set2 - set1): {diferencia2}\")\n",
        "print(f\"Diferencia simétrica: {diferencia_simetrica}\")\n",
        "\n",
        "# Comprobar pertenencia (muy eficiente)\n",
        "print(f\"¿Está 3 en set1? {3 in set1}\")\n",
        "print(f\"¿Está 7 en set1? {7 in set1}\")"
      ],
      "execution_count": null,
      "outputs": [
        {
          "output_type": "stream",
          "name": "stdout",
          "text": [
            "Set original: {1, 2, 3, 'cuatro'}\n",
            "Tipo de mi_set: <class 'set'>\n",
            "Lista con duplicados: [1, 2, 2, 3, 4, 4, 5]\n",
            "Set sin duplicados (creado desde lista): {1, 2, 3, 4, 5}\n",
            "Set después de añadir 'cinco': {1, 2, 3, 'cinco', 'cuatro'}\n",
            "Set después de intentar añadir 3 (duplicado): {1, 2, 3, 'cinco', 'cuatro'}\n",
            "Set después de eliminar 'cuatro': {1, 2, 3, 'cinco'}\n",
            "Elementos del set:\n",
            "1\n",
            "2\n",
            "3\n",
            "cinco\n",
            "Set 1: {1, 2, 3, 4}\n",
            "Set 2: {3, 4, 5, 6}\n",
            "Unión: {1, 2, 3, 4, 5, 6}\n",
            "Intersección: {3, 4}\n",
            "Diferencia (set1 - set2): {1, 2}\n",
            "Diferencia (set2 - set1): {5, 6}\n",
            "Diferencia simétrica: {1, 2, 5, 6}\n",
            "¿Está 3 en set1? True\n",
            "¿Está 7 en set1? False\n"
          ]
        }
      ]
    },
    {
      "cell_type": "markdown",
      "metadata": {
        "id": "60fc9917"
      },
      "source": [
        "Ejemplo del tipo de dato contenedor: Diccionario (`dict`)."
      ]
    },
    {
      "cell_type": "code",
      "metadata": {
        "colab": {
          "base_uri": "https://localhost:8080/"
        },
        "id": "3504e423",
        "outputId": "ecfa7b0c-26c2-4be7-d72c-47a44a65ae87"
      },
      "source": [
        "# Ejemplo de Diccionarios (dict)\n",
        "\n",
        "# Crear un diccionario\n",
        "persona = {\n",
        "    \"nombre\": \"Juan\",\n",
        "    \"edad\": 30,\n",
        "    \"ciudad\": \"Buenos Aires\",\n",
        "    \"tiene_licencia\": True\n",
        "}\n",
        "print(f\"Diccionario original: {persona}\")\n",
        "print(f\"Tipo de persona: {type(persona)}\")\n",
        "\n",
        "# Acceder a valores usando claves\n",
        "print(f\"Nombre de la persona: {persona['nombre']}\")\n",
        "print(f\"Edad de la persona: {persona['edad']}\")\n",
        "\n",
        "# Modificar un valor\n",
        "persona['edad'] = 31\n",
        "print(f\"Diccionario después de cambiar la edad: {persona}\")\n",
        "\n",
        "# Añadir un nuevo par clave-valor\n",
        "persona['ocupacion'] = \"Ingeniero\"\n",
        "print(f\"Diccionario después de añadir ocupacion: {persona}\")\n",
        "\n",
        "# Eliminar un par clave-valor\n",
        "del persona['tiene_licencia']\n",
        "print(f\"Diccionario después de eliminar tiene_licencia: {persona}\")\n",
        "\n",
        "# Intentar acceder a una clave que no existe (generará un error KeyError)\n",
        "# print(persona['altura']) # Descomenta para ver KeyError\n",
        "\n",
        "# Usar el método .get() para evitar errores si la clave no existe\n",
        "# Devuelve None si la clave no se encuentra\n",
        "print(f\"Intentar obtener altura con .get(): {persona.get('altura')}\")\n",
        "# Puedes proporcionar un valor por defecto si la clave no se encuentra\n",
        "print(f\"Intentar obtener altura con .get() y valor por defecto: {persona.get('altura', 'No especificada')}\")\n",
        "\n",
        "# Longitud del diccionario (número de pares clave-valor)\n",
        "print(f\"Número de elementos en el diccionario: {len(persona)}\")\n",
        "\n",
        "# Obtener todas las claves, valores o pares clave-valor\n",
        "claves = persona.keys()\n",
        "valores = persona.values()\n",
        "items = persona.items() # Devuelve tuplas (clave, valor)\n",
        "\n",
        "print(f\"Claves del diccionario: {claves}\")\n",
        "print(f\"Valores del diccionario: {valores}\")\n",
        "print(f\"Items (pares clave-valor) del diccionario: {items}\")\n",
        "\n",
        "print(\"-\" * 20) # Separador\n",
        "\n",
        "# Iterar sobre un diccionario\n",
        "print(\"Iterando sobre las claves:\")\n",
        "for clave in persona.keys():\n",
        "    print(clave)\n",
        "\n",
        "print(\"\\nIterando sobre los valores:\")\n",
        "for valor in persona.values():\n",
        "    print(valor)\n",
        "\n",
        "print(\"\\nIterando sobre los items (pares clave-valor):\")\n",
        "for clave, valor in persona.items():\n",
        "    print(f\"{clave}: {valor}\")"
      ],
      "execution_count": null,
      "outputs": [
        {
          "output_type": "stream",
          "name": "stdout",
          "text": [
            "Diccionario original: {'nombre': 'Juan', 'edad': 30, 'ciudad': 'Buenos Aires', 'tiene_licencia': True}\n",
            "Tipo de persona: <class 'dict'>\n",
            "Nombre de la persona: Juan\n",
            "Edad de la persona: 30\n",
            "Diccionario después de cambiar la edad: {'nombre': 'Juan', 'edad': 31, 'ciudad': 'Buenos Aires', 'tiene_licencia': True}\n",
            "Diccionario después de añadir ocupacion: {'nombre': 'Juan', 'edad': 31, 'ciudad': 'Buenos Aires', 'tiene_licencia': True, 'ocupacion': 'Ingeniero'}\n",
            "Diccionario después de eliminar tiene_licencia: {'nombre': 'Juan', 'edad': 31, 'ciudad': 'Buenos Aires', 'ocupacion': 'Ingeniero'}\n",
            "Intentar obtener altura con .get(): None\n",
            "Intentar obtener altura con .get() y valor por defecto: No especificada\n",
            "Número de elementos en el diccionario: 4\n",
            "Claves del diccionario: dict_keys(['nombre', 'edad', 'ciudad', 'ocupacion'])\n",
            "Valores del diccionario: dict_values(['Juan', 31, 'Buenos Aires', 'Ingeniero'])\n",
            "Items (pares clave-valor) del diccionario: dict_items([('nombre', 'Juan'), ('edad', 31), ('ciudad', 'Buenos Aires'), ('ocupacion', 'Ingeniero')])\n",
            "--------------------\n",
            "Iterando sobre las claves:\n",
            "nombre\n",
            "edad\n",
            "ciudad\n",
            "ocupacion\n",
            "\n",
            "Iterando sobre los valores:\n",
            "Juan\n",
            "31\n",
            "Buenos Aires\n",
            "Ingeniero\n",
            "\n",
            "Iterando sobre los items (pares clave-valor):\n",
            "nombre: Juan\n",
            "edad: 31\n",
            "ciudad: Buenos Aires\n",
            "ocupacion: Ingeniero\n"
          ]
        }
      ]
    },
    {
      "cell_type": "markdown",
      "metadata": {
        "id": "e6aa0278"
      },
      "source": [
        "Ejemplo de definición y uso de una función con `def`."
      ]
    },
    {
      "cell_type": "code",
      "metadata": {
        "colab": {
          "base_uri": "https://localhost:8080/"
        },
        "id": "03a718cd",
        "outputId": "1a0c93bc-47bc-45c1-f4a1-25f2b0015ddd"
      },
      "source": [
        "# Definición de una función simple\n",
        "def saludar(nombre):\n",
        "    \"\"\"Esta función imprime un saludo personalizado.\"\"\" # Esto es un docstring (documentación)\n",
        "    mensaje = f\"¡Hola, {nombre}!\"\n",
        "    print(mensaje)\n",
        "\n",
        "# Llamar a la función\n",
        "saludar(\"Mundo\")\n",
        "saludar(\"Ana\")\n",
        "\n",
        "print(\"-\" * 20) # Separador\n",
        "\n",
        "# Definición de una función que devuelve un valor\n",
        "def sumar(a, b):\n",
        "    \"\"\"Esta función toma dos números y devuelve su suma.\"\"\"\n",
        "    resultado = a + b\n",
        "    return resultado\n",
        "\n",
        "# Llamar a la función y almacenar el resultado\n",
        "numero1 = 10\n",
        "numero2 = 25\n",
        "suma_total = sumar(numero1, numero2) # Llamamos a la función con argumentos\n",
        "print(f\"La suma de {numero1} y {numero2} es: {suma_total}\")\n",
        "\n",
        "print(f\"La suma de 7 y 3 es: {sumar(7, 3)}\") # Llamar a la función directamente en print"
      ],
      "execution_count": null,
      "outputs": [
        {
          "output_type": "stream",
          "name": "stdout",
          "text": [
            "¡Hola, Mundo!\n",
            "¡Hola, Ana!\n",
            "--------------------\n",
            "La suma de 10 y 25 es: 35\n",
            "La suma de 7 y 3 es: 10\n"
          ]
        }
      ]
    },
    {
      "cell_type": "markdown",
      "metadata": {
        "id": "aef33b50"
      },
      "source": [
        "Aquí tienes un ejemplo básico de una clase con `__init__` y `self`."
      ]
    },
    {
      "cell_type": "code",
      "metadata": {
        "colab": {
          "base_uri": "https://localhost:8080/"
        },
        "id": "b06dd586",
        "outputId": "07871a64-b5bc-4833-e995-5ac825521334"
      },
      "source": [
        "# Ejemplo de class, __init__, y self\n",
        "\n",
        "class Persona:\n",
        "    # El método constructor __init__\n",
        "    # 'self' se refiere a la instancia del objeto que se está creando\n",
        "    # 'nombre' y 'edad' son parámetros para inicializar los atributos\n",
        "    def __init__(self, nombre, edad):\n",
        "        # Atributos de la instancia (propiedades del objeto)\n",
        "        self.nombre = nombre # Asigna el valor del parámetro 'nombre' al atributo 'self.nombre'\n",
        "        self.edad = edad     # Asigna el valor del parámetro 'edad' al atributo 'self.edad'\n",
        "        print(f\"Se ha creado una nueva instancia de Persona: {self.nombre}\")\n",
        "\n",
        "    # Un método de instancia simple\n",
        "    def saludar(self):\n",
        "        # Dentro de un método, usamos 'self' para acceder a los atributos de la instancia\n",
        "        print(f\"Hola, mi nombre es {self.nombre} y tengo {self.edad} años.\")\n",
        "\n",
        "# Crear instancias (objetos) de la clase Persona\n",
        "# Al crear la instancia, se llama automáticamente a __init__ con los argumentos proporcionados\n",
        "persona1 = Persona(\"Ana\", 25)\n",
        "persona2 = Persona(\"Bruno\", 30)\n",
        "\n",
        "# Acceder a los atributos de las instancias\n",
        "print(f\"El nombre de persona1 es: {persona1.nombre}\")\n",
        "print(f\"La edad de persona2 es: {persona2.edad}\")\n",
        "\n",
        "# Llamar a los métodos de las instancias\n",
        "persona1.saludar()\n",
        "persona2.saludar()"
      ],
      "execution_count": null,
      "outputs": [
        {
          "output_type": "stream",
          "name": "stdout",
          "text": [
            "Se ha creado una nueva instancia de Persona: Ana\n",
            "Se ha creado una nueva instancia de Persona: Bruno\n",
            "El nombre de persona1 es: Ana\n",
            "La edad de persona2 es: 30\n",
            "Hola, mi nombre es Ana y tengo 25 años.\n",
            "Hola, mi nombre es Bruno y tengo 30 años.\n"
          ]
        }
      ]
    }
  ]
}